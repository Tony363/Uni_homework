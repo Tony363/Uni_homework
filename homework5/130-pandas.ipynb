{
 "cells": [
  {
   "cell_type": "markdown",
   "metadata": {
    "slideshow": {
     "slide_type": "slide"
    }
   },
   "source": [
    "## ENGI E1006: Introduction to Computing for Engineers and Applied Scientists\n",
    "---"
   ]
  },
  {
   "cell_type": "markdown",
   "metadata": {},
   "source": [
    "`numpy` gave us the powerful `ndarray` class, which let us represent vectors and matrices, and perform vectorized operations on them."
   ]
  },
  {
   "cell_type": "code",
   "execution_count": 5,
   "metadata": {},
   "outputs": [
    {
     "data": {
      "text/plain": [
       "array([[0.42244487, 0.21635304, 0.50574213, 0.39160583, 0.82171714,\n",
       "        0.10917528, 0.92453447, 0.43482457, 0.05183509, 0.63635641],\n",
       "       [0.53095645, 0.94036806, 0.16326767, 0.86163216, 0.55687964,\n",
       "        0.96588727, 0.07989211, 0.37720889, 0.53315314, 0.02029429],\n",
       "       [0.48461721, 0.18890459, 0.1061276 , 0.41955193, 0.17429005,\n",
       "        0.17708643, 0.04385077, 0.66551247, 0.97385531, 0.62400369],\n",
       "       [0.14692034, 0.87011321, 0.16394209, 0.48807434, 0.52267332,\n",
       "        0.61818734, 0.20712308, 0.23108104, 0.55565389, 0.69453651],\n",
       "       [0.19685137, 0.22193625, 0.15568255, 0.77165694, 0.9804302 ,\n",
       "        0.67499115, 0.57691875, 0.20898055, 0.86146939, 0.53236461],\n",
       "       [0.92271982, 0.82387721, 0.11813294, 0.5997865 , 0.8963926 ,\n",
       "        0.10319847, 0.19589352, 0.78735676, 0.39112258, 0.39536628],\n",
       "       [0.8289851 , 0.68767366, 0.49219005, 0.97759288, 0.48577356,\n",
       "        0.8164902 , 0.64625585, 0.38918058, 0.61473895, 0.3173676 ],\n",
       "       [0.4645371 , 0.94585027, 0.36278853, 0.84066072, 0.69899414,\n",
       "        0.98691064, 0.27325005, 0.73250853, 0.63368552, 0.40272566],\n",
       "       [0.20450058, 0.52113584, 0.42530364, 0.32014528, 0.37509938,\n",
       "        0.95426455, 0.67108001, 0.18731426, 0.48373048, 0.33402121],\n",
       "       [0.78242799, 0.1154705 , 0.29046005, 0.51821566, 0.31419349,\n",
       "        0.51860535, 0.6690191 , 0.91585976, 0.83370539, 0.33980001]])"
      ]
     },
     "execution_count": 5,
     "metadata": {},
     "output_type": "execute_result"
    }
   ],
   "source": [
    "import numpy as np\n",
    "mat = np.random.random((10, 10))\n",
    "mat"
   ]
  },
  {
   "cell_type": "markdown",
   "metadata": {},
   "source": [
    "This is obviously extremely useful, but real-world data requires a bit more.\n",
    "- How do i refer to a column of this matrix by name?\n",
    "- Can i add a new column? What about adding a new column with only a single field populated?\n",
    "- Can i change the data type of a column?\n",
    "\n",
    "For these questions, we cannot easily do them. Matrices are not Tables.\n",
    "\n",
    "Instead, we want a more Excel-like interface to data. This is where `pandas` fits in."
   ]
  },
  {
   "cell_type": "code",
   "execution_count": 6,
   "metadata": {},
   "outputs": [
    {
     "data": {
      "text/html": [
       "<div>\n",
       "<style scoped>\n",
       "    .dataframe tbody tr th:only-of-type {\n",
       "        vertical-align: middle;\n",
       "    }\n",
       "\n",
       "    .dataframe tbody tr th {\n",
       "        vertical-align: top;\n",
       "    }\n",
       "\n",
       "    .dataframe thead th {\n",
       "        text-align: right;\n",
       "    }\n",
       "</style>\n",
       "<table border=\"1\" class=\"dataframe\">\n",
       "  <thead>\n",
       "    <tr style=\"text-align: right;\">\n",
       "      <th></th>\n",
       "      <th>A</th>\n",
       "      <th>B</th>\n",
       "      <th>C</th>\n",
       "      <th>D</th>\n",
       "    </tr>\n",
       "  </thead>\n",
       "  <tbody>\n",
       "    <tr>\n",
       "      <th>0</th>\n",
       "      <td>0.764901</td>\n",
       "      <td>0.890178</td>\n",
       "      <td>0.840078</td>\n",
       "      <td>0.762386</td>\n",
       "    </tr>\n",
       "    <tr>\n",
       "      <th>1</th>\n",
       "      <td>0.191364</td>\n",
       "      <td>0.795322</td>\n",
       "      <td>0.529669</td>\n",
       "      <td>0.315802</td>\n",
       "    </tr>\n",
       "    <tr>\n",
       "      <th>2</th>\n",
       "      <td>0.768340</td>\n",
       "      <td>0.939835</td>\n",
       "      <td>0.859452</td>\n",
       "      <td>0.267265</td>\n",
       "    </tr>\n",
       "    <tr>\n",
       "      <th>3</th>\n",
       "      <td>0.966723</td>\n",
       "      <td>0.817088</td>\n",
       "      <td>0.138783</td>\n",
       "      <td>0.869668</td>\n",
       "    </tr>\n",
       "    <tr>\n",
       "      <th>4</th>\n",
       "      <td>0.901957</td>\n",
       "      <td>0.652434</td>\n",
       "      <td>0.675489</td>\n",
       "      <td>0.135819</td>\n",
       "    </tr>\n",
       "    <tr>\n",
       "      <th>5</th>\n",
       "      <td>0.421967</td>\n",
       "      <td>0.902668</td>\n",
       "      <td>0.360128</td>\n",
       "      <td>0.440457</td>\n",
       "    </tr>\n",
       "    <tr>\n",
       "      <th>6</th>\n",
       "      <td>0.461567</td>\n",
       "      <td>0.976167</td>\n",
       "      <td>0.842072</td>\n",
       "      <td>0.512668</td>\n",
       "    </tr>\n",
       "    <tr>\n",
       "      <th>7</th>\n",
       "      <td>0.407582</td>\n",
       "      <td>0.437367</td>\n",
       "      <td>0.251799</td>\n",
       "      <td>0.101260</td>\n",
       "    </tr>\n",
       "    <tr>\n",
       "      <th>8</th>\n",
       "      <td>0.701107</td>\n",
       "      <td>0.197193</td>\n",
       "      <td>0.157878</td>\n",
       "      <td>0.184369</td>\n",
       "    </tr>\n",
       "    <tr>\n",
       "      <th>9</th>\n",
       "      <td>0.729487</td>\n",
       "      <td>0.041715</td>\n",
       "      <td>0.227472</td>\n",
       "      <td>0.223806</td>\n",
       "    </tr>\n",
       "  </tbody>\n",
       "</table>\n",
       "</div>"
      ],
      "text/plain": [
       "          A         B         C         D\n",
       "0  0.764901  0.890178  0.840078  0.762386\n",
       "1  0.191364  0.795322  0.529669  0.315802\n",
       "2  0.768340  0.939835  0.859452  0.267265\n",
       "3  0.966723  0.817088  0.138783  0.869668\n",
       "4  0.901957  0.652434  0.675489  0.135819\n",
       "5  0.421967  0.902668  0.360128  0.440457\n",
       "6  0.461567  0.976167  0.842072  0.512668\n",
       "7  0.407582  0.437367  0.251799  0.101260\n",
       "8  0.701107  0.197193  0.157878  0.184369\n",
       "9  0.729487  0.041715  0.227472  0.223806"
      ]
     },
     "execution_count": 6,
     "metadata": {},
     "output_type": "execute_result"
    }
   ],
   "source": [
    "import pandas as pd\n",
    "df = pd.DataFrame(data=np.random.random((10, 4)), columns=['A', 'B', 'C', 'D'])\n",
    "df"
   ]
  },
  {
   "cell_type": "code",
   "execution_count": 7,
   "metadata": {},
   "outputs": [
    {
     "data": {
      "text/plain": [
       "0    0.764901\n",
       "1    0.191364\n",
       "2    0.768340\n",
       "3    0.966723\n",
       "4    0.901957\n",
       "5    0.421967\n",
       "6    0.461567\n",
       "7    0.407582\n",
       "8    0.701107\n",
       "9    0.729487\n",
       "Name: A, dtype: float64"
      ]
     },
     "execution_count": 7,
     "metadata": {},
     "output_type": "execute_result"
    }
   ],
   "source": [
    "# Access data by column\n",
    "df['A']"
   ]
  },
  {
   "cell_type": "code",
   "execution_count": 8,
   "metadata": {},
   "outputs": [],
   "source": [
    "# Add a new column\n",
    "df['E'] = np.random.random(10)"
   ]
  },
  {
   "cell_type": "code",
   "execution_count": 9,
   "metadata": {},
   "outputs": [
    {
     "data": {
      "text/html": [
       "<div>\n",
       "<style scoped>\n",
       "    .dataframe tbody tr th:only-of-type {\n",
       "        vertical-align: middle;\n",
       "    }\n",
       "\n",
       "    .dataframe tbody tr th {\n",
       "        vertical-align: top;\n",
       "    }\n",
       "\n",
       "    .dataframe thead th {\n",
       "        text-align: right;\n",
       "    }\n",
       "</style>\n",
       "<table border=\"1\" class=\"dataframe\">\n",
       "  <thead>\n",
       "    <tr style=\"text-align: right;\">\n",
       "      <th></th>\n",
       "      <th>A</th>\n",
       "      <th>B</th>\n",
       "      <th>C</th>\n",
       "      <th>D</th>\n",
       "      <th>E</th>\n",
       "    </tr>\n",
       "  </thead>\n",
       "  <tbody>\n",
       "    <tr>\n",
       "      <th>0</th>\n",
       "      <td>0.764901</td>\n",
       "      <td>0.890178</td>\n",
       "      <td>0.840078</td>\n",
       "      <td>0.762386</td>\n",
       "      <td>0.632202</td>\n",
       "    </tr>\n",
       "    <tr>\n",
       "      <th>1</th>\n",
       "      <td>0.191364</td>\n",
       "      <td>0.795322</td>\n",
       "      <td>0.529669</td>\n",
       "      <td>0.315802</td>\n",
       "      <td>0.183597</td>\n",
       "    </tr>\n",
       "    <tr>\n",
       "      <th>2</th>\n",
       "      <td>0.768340</td>\n",
       "      <td>0.939835</td>\n",
       "      <td>0.859452</td>\n",
       "      <td>0.267265</td>\n",
       "      <td>0.157752</td>\n",
       "    </tr>\n",
       "    <tr>\n",
       "      <th>3</th>\n",
       "      <td>0.966723</td>\n",
       "      <td>0.817088</td>\n",
       "      <td>0.138783</td>\n",
       "      <td>0.869668</td>\n",
       "      <td>0.891619</td>\n",
       "    </tr>\n",
       "    <tr>\n",
       "      <th>4</th>\n",
       "      <td>0.901957</td>\n",
       "      <td>0.652434</td>\n",
       "      <td>0.675489</td>\n",
       "      <td>0.135819</td>\n",
       "      <td>0.098702</td>\n",
       "    </tr>\n",
       "    <tr>\n",
       "      <th>5</th>\n",
       "      <td>0.421967</td>\n",
       "      <td>0.902668</td>\n",
       "      <td>0.360128</td>\n",
       "      <td>0.440457</td>\n",
       "      <td>0.557732</td>\n",
       "    </tr>\n",
       "    <tr>\n",
       "      <th>6</th>\n",
       "      <td>0.461567</td>\n",
       "      <td>0.976167</td>\n",
       "      <td>0.842072</td>\n",
       "      <td>0.512668</td>\n",
       "      <td>0.690839</td>\n",
       "    </tr>\n",
       "    <tr>\n",
       "      <th>7</th>\n",
       "      <td>0.407582</td>\n",
       "      <td>0.437367</td>\n",
       "      <td>0.251799</td>\n",
       "      <td>0.101260</td>\n",
       "      <td>0.212198</td>\n",
       "    </tr>\n",
       "    <tr>\n",
       "      <th>8</th>\n",
       "      <td>0.701107</td>\n",
       "      <td>0.197193</td>\n",
       "      <td>0.157878</td>\n",
       "      <td>0.184369</td>\n",
       "      <td>0.087597</td>\n",
       "    </tr>\n",
       "    <tr>\n",
       "      <th>9</th>\n",
       "      <td>0.729487</td>\n",
       "      <td>0.041715</td>\n",
       "      <td>0.227472</td>\n",
       "      <td>0.223806</td>\n",
       "      <td>0.668527</td>\n",
       "    </tr>\n",
       "  </tbody>\n",
       "</table>\n",
       "</div>"
      ],
      "text/plain": [
       "          A         B         C         D         E\n",
       "0  0.764901  0.890178  0.840078  0.762386  0.632202\n",
       "1  0.191364  0.795322  0.529669  0.315802  0.183597\n",
       "2  0.768340  0.939835  0.859452  0.267265  0.157752\n",
       "3  0.966723  0.817088  0.138783  0.869668  0.891619\n",
       "4  0.901957  0.652434  0.675489  0.135819  0.098702\n",
       "5  0.421967  0.902668  0.360128  0.440457  0.557732\n",
       "6  0.461567  0.976167  0.842072  0.512668  0.690839\n",
       "7  0.407582  0.437367  0.251799  0.101260  0.212198\n",
       "8  0.701107  0.197193  0.157878  0.184369  0.087597\n",
       "9  0.729487  0.041715  0.227472  0.223806  0.668527"
      ]
     },
     "execution_count": 9,
     "metadata": {},
     "output_type": "execute_result"
    }
   ],
   "source": [
    "df"
   ]
  },
  {
   "cell_type": "code",
   "execution_count": 10,
   "metadata": {},
   "outputs": [
    {
     "data": {
      "text/html": [
       "<div>\n",
       "<style scoped>\n",
       "    .dataframe tbody tr th:only-of-type {\n",
       "        vertical-align: middle;\n",
       "    }\n",
       "\n",
       "    .dataframe tbody tr th {\n",
       "        vertical-align: top;\n",
       "    }\n",
       "\n",
       "    .dataframe thead th {\n",
       "        text-align: right;\n",
       "    }\n",
       "</style>\n",
       "<table border=\"1\" class=\"dataframe\">\n",
       "  <thead>\n",
       "    <tr style=\"text-align: right;\">\n",
       "      <th></th>\n",
       "      <th>A</th>\n",
       "      <th>B</th>\n",
       "      <th>C</th>\n",
       "      <th>D</th>\n",
       "      <th>E</th>\n",
       "    </tr>\n",
       "  </thead>\n",
       "  <tbody>\n",
       "    <tr>\n",
       "      <th>0</th>\n",
       "      <td>0.76</td>\n",
       "      <td>0.890178</td>\n",
       "      <td>0.840078</td>\n",
       "      <td>0.762386</td>\n",
       "      <td>0.632202</td>\n",
       "    </tr>\n",
       "    <tr>\n",
       "      <th>1</th>\n",
       "      <td>0.19</td>\n",
       "      <td>0.795322</td>\n",
       "      <td>0.529669</td>\n",
       "      <td>0.315802</td>\n",
       "      <td>0.183597</td>\n",
       "    </tr>\n",
       "    <tr>\n",
       "      <th>2</th>\n",
       "      <td>0.77</td>\n",
       "      <td>0.939835</td>\n",
       "      <td>0.859452</td>\n",
       "      <td>0.267265</td>\n",
       "      <td>0.157752</td>\n",
       "    </tr>\n",
       "    <tr>\n",
       "      <th>3</th>\n",
       "      <td>0.97</td>\n",
       "      <td>0.817088</td>\n",
       "      <td>0.138783</td>\n",
       "      <td>0.869668</td>\n",
       "      <td>0.891619</td>\n",
       "    </tr>\n",
       "    <tr>\n",
       "      <th>4</th>\n",
       "      <td>0.9</td>\n",
       "      <td>0.652434</td>\n",
       "      <td>0.675489</td>\n",
       "      <td>0.135819</td>\n",
       "      <td>0.098702</td>\n",
       "    </tr>\n",
       "    <tr>\n",
       "      <th>5</th>\n",
       "      <td>0.42</td>\n",
       "      <td>0.902668</td>\n",
       "      <td>0.360128</td>\n",
       "      <td>0.440457</td>\n",
       "      <td>0.557732</td>\n",
       "    </tr>\n",
       "    <tr>\n",
       "      <th>6</th>\n",
       "      <td>0.46</td>\n",
       "      <td>0.976167</td>\n",
       "      <td>0.842072</td>\n",
       "      <td>0.512668</td>\n",
       "      <td>0.690839</td>\n",
       "    </tr>\n",
       "    <tr>\n",
       "      <th>7</th>\n",
       "      <td>0.41</td>\n",
       "      <td>0.437367</td>\n",
       "      <td>0.251799</td>\n",
       "      <td>0.101260</td>\n",
       "      <td>0.212198</td>\n",
       "    </tr>\n",
       "    <tr>\n",
       "      <th>8</th>\n",
       "      <td>0.7</td>\n",
       "      <td>0.197193</td>\n",
       "      <td>0.157878</td>\n",
       "      <td>0.184369</td>\n",
       "      <td>0.087597</td>\n",
       "    </tr>\n",
       "    <tr>\n",
       "      <th>9</th>\n",
       "      <td>0.73</td>\n",
       "      <td>0.041715</td>\n",
       "      <td>0.227472</td>\n",
       "      <td>0.223806</td>\n",
       "      <td>0.668527</td>\n",
       "    </tr>\n",
       "  </tbody>\n",
       "</table>\n",
       "</div>"
      ],
      "text/plain": [
       "      A         B         C         D         E\n",
       "0  0.76  0.890178  0.840078  0.762386  0.632202\n",
       "1  0.19  0.795322  0.529669  0.315802  0.183597\n",
       "2  0.77  0.939835  0.859452  0.267265  0.157752\n",
       "3  0.97  0.817088  0.138783  0.869668  0.891619\n",
       "4   0.9  0.652434  0.675489  0.135819  0.098702\n",
       "5  0.42  0.902668  0.360128  0.440457  0.557732\n",
       "6  0.46  0.976167  0.842072  0.512668  0.690839\n",
       "7  0.41  0.437367  0.251799  0.101260  0.212198\n",
       "8   0.7  0.197193  0.157878  0.184369  0.087597\n",
       "9  0.73  0.041715  0.227472  0.223806  0.668527"
      ]
     },
     "execution_count": 10,
     "metadata": {},
     "output_type": "execute_result"
    }
   ],
   "source": [
    "# Change column type\n",
    "df['A'] = round(df['A'], 2).astype(str)\n",
    "df"
   ]
  },
  {
   "cell_type": "markdown",
   "metadata": {},
   "source": [
    "## Pandas architecture\n",
    "Pandas is a very large and complicated project, so it won't be possible to discuss how everything works. We'll just cover the basics.\n",
    "\n",
    "A column of a table, called a `Series`, is like a `numpy` array. It has a common data type, supports vectorized operations, has helpful methods like `sum` and `mean`, etc.\n",
    "\n",
    "<img src=\"assets/1.png\" width=550></img>\n",
    "\n",
    "\n",
    "A collection of `Series` can be grouped into a `DataFrame`, which is the pandas representation of a Table. We can access our table by column name (to grab columns), or by row index to grab rows.\n",
    "\n",
    "<img src=\"assets/2.png\" width=550></img>\n",
    "\n",
    "\n",
    "Row index and Column index let us do `pivoting`. By default, the row index is just the row number, and the column index is just the column name, but we can set these to different/multiple indexes to do pivoting and aggregation (more of this to come later).\n",
    "\n",
    "<img src=\"assets/3.png\" width=550></img>\n",
    "\n",
    "\n",
    "DataFrames support a large number of operations:\n",
    "- Concatenating and Joining tables\n",
    "- Pivoting and Unpivoting tables\n",
    "- Calculating statistics\n",
    "- Plotting\n",
    "- Applying functions\n",
    "- Indexing and Slicing\n",
    "- Bucketing (histogramming)\n",
    "- Converting\n",
    "    - to/from csv\n",
    "    - to/from numpy\n",
    "    - to/from excel\n",
    "    - and many other formats\n",
    "\n",
    "We'll only cover a few of these, you can find extensive documentation and tutorials on the [pandas website](https://pandas.pydata.org/docs/index.html).\n",
    "\n",
    "\n",
    "\n",
    "Let's take a look at our `superstore.csv` to see what we can do with pandas."
   ]
  },
  {
   "cell_type": "code",
   "execution_count": 11,
   "metadata": {},
   "outputs": [],
   "source": [
    "pd?"
   ]
  },
  {
   "cell_type": "code",
   "execution_count": 12,
   "metadata": {},
   "outputs": [],
   "source": [
    "pd.read_csv?"
   ]
  },
  {
   "cell_type": "code",
   "execution_count": 13,
   "metadata": {},
   "outputs": [
    {
     "ename": "FileNotFoundError",
     "evalue": "[Errno 2] File superstore.csv does not exist: 'superstore.csv'",
     "output_type": "error",
     "traceback": [
      "\u001b[0;31m--------------------------------------------------------------------------\u001b[0m",
      "\u001b[0;31mFileNotFoundError\u001b[0m                        Traceback (most recent call last)",
      "\u001b[0;32m<ipython-input-13-bb8f967e391a>\u001b[0m in \u001b[0;36m<module>\u001b[0;34m\u001b[0m\n\u001b[0;32m----> 1\u001b[0;31m \u001b[0mdf\u001b[0m \u001b[0;34m=\u001b[0m \u001b[0mpd\u001b[0m\u001b[0;34m.\u001b[0m\u001b[0mread_csv\u001b[0m\u001b[0;34m(\u001b[0m\u001b[0;34m\"superstore.csv\"\u001b[0m\u001b[0;34m)\u001b[0m\u001b[0;34m\u001b[0m\u001b[0;34m\u001b[0m\u001b[0m\n\u001b[0m",
      "\u001b[0;32m~/.local/share/virtualenvs/Uni_homework-47B8zL1T/lib/python3.6/site-packages/pandas/io/parsers.py\u001b[0m in \u001b[0;36mparser_f\u001b[0;34m(filepath_or_buffer, sep, delimiter, header, names, index_col, usecols, squeeze, prefix, mangle_dupe_cols, dtype, engine, converters, true_values, false_values, skipinitialspace, skiprows, skipfooter, nrows, na_values, keep_default_na, na_filter, verbose, skip_blank_lines, parse_dates, infer_datetime_format, keep_date_col, date_parser, dayfirst, cache_dates, iterator, chunksize, compression, thousands, decimal, lineterminator, quotechar, quoting, doublequote, escapechar, comment, encoding, dialect, error_bad_lines, warn_bad_lines, delim_whitespace, low_memory, memory_map, float_precision)\u001b[0m\n\u001b[1;32m    674\u001b[0m         )\n\u001b[1;32m    675\u001b[0m \u001b[0;34m\u001b[0m\u001b[0m\n\u001b[0;32m--> 676\u001b[0;31m         \u001b[0;32mreturn\u001b[0m \u001b[0m_read\u001b[0m\u001b[0;34m(\u001b[0m\u001b[0mfilepath_or_buffer\u001b[0m\u001b[0;34m,\u001b[0m \u001b[0mkwds\u001b[0m\u001b[0;34m)\u001b[0m\u001b[0;34m\u001b[0m\u001b[0;34m\u001b[0m\u001b[0m\n\u001b[0m\u001b[1;32m    677\u001b[0m \u001b[0;34m\u001b[0m\u001b[0m\n\u001b[1;32m    678\u001b[0m     \u001b[0mparser_f\u001b[0m\u001b[0;34m.\u001b[0m\u001b[0m__name__\u001b[0m \u001b[0;34m=\u001b[0m \u001b[0mname\u001b[0m\u001b[0;34m\u001b[0m\u001b[0;34m\u001b[0m\u001b[0m\n",
      "\u001b[0;32m~/.local/share/virtualenvs/Uni_homework-47B8zL1T/lib/python3.6/site-packages/pandas/io/parsers.py\u001b[0m in \u001b[0;36m_read\u001b[0;34m(filepath_or_buffer, kwds)\u001b[0m\n\u001b[1;32m    446\u001b[0m \u001b[0;34m\u001b[0m\u001b[0m\n\u001b[1;32m    447\u001b[0m     \u001b[0;31m# Create the parser.\u001b[0m\u001b[0;34m\u001b[0m\u001b[0;34m\u001b[0m\u001b[0;34m\u001b[0m\u001b[0m\n\u001b[0;32m--> 448\u001b[0;31m     \u001b[0mparser\u001b[0m \u001b[0;34m=\u001b[0m \u001b[0mTextFileReader\u001b[0m\u001b[0;34m(\u001b[0m\u001b[0mfp_or_buf\u001b[0m\u001b[0;34m,\u001b[0m \u001b[0;34m**\u001b[0m\u001b[0mkwds\u001b[0m\u001b[0;34m)\u001b[0m\u001b[0;34m\u001b[0m\u001b[0;34m\u001b[0m\u001b[0m\n\u001b[0m\u001b[1;32m    449\u001b[0m \u001b[0;34m\u001b[0m\u001b[0m\n\u001b[1;32m    450\u001b[0m     \u001b[0;32mif\u001b[0m \u001b[0mchunksize\u001b[0m \u001b[0;32mor\u001b[0m \u001b[0miterator\u001b[0m\u001b[0;34m:\u001b[0m\u001b[0;34m\u001b[0m\u001b[0;34m\u001b[0m\u001b[0m\n",
      "\u001b[0;32m~/.local/share/virtualenvs/Uni_homework-47B8zL1T/lib/python3.6/site-packages/pandas/io/parsers.py\u001b[0m in \u001b[0;36m__init__\u001b[0;34m(self, f, engine, **kwds)\u001b[0m\n\u001b[1;32m    878\u001b[0m             \u001b[0mself\u001b[0m\u001b[0;34m.\u001b[0m\u001b[0moptions\u001b[0m\u001b[0;34m[\u001b[0m\u001b[0;34m\"has_index_names\"\u001b[0m\u001b[0;34m]\u001b[0m \u001b[0;34m=\u001b[0m \u001b[0mkwds\u001b[0m\u001b[0;34m[\u001b[0m\u001b[0;34m\"has_index_names\"\u001b[0m\u001b[0;34m]\u001b[0m\u001b[0;34m\u001b[0m\u001b[0;34m\u001b[0m\u001b[0m\n\u001b[1;32m    879\u001b[0m \u001b[0;34m\u001b[0m\u001b[0m\n\u001b[0;32m--> 880\u001b[0;31m         \u001b[0mself\u001b[0m\u001b[0;34m.\u001b[0m\u001b[0m_make_engine\u001b[0m\u001b[0;34m(\u001b[0m\u001b[0mself\u001b[0m\u001b[0;34m.\u001b[0m\u001b[0mengine\u001b[0m\u001b[0;34m)\u001b[0m\u001b[0;34m\u001b[0m\u001b[0;34m\u001b[0m\u001b[0m\n\u001b[0m\u001b[1;32m    881\u001b[0m \u001b[0;34m\u001b[0m\u001b[0m\n\u001b[1;32m    882\u001b[0m     \u001b[0;32mdef\u001b[0m \u001b[0mclose\u001b[0m\u001b[0;34m(\u001b[0m\u001b[0mself\u001b[0m\u001b[0;34m)\u001b[0m\u001b[0;34m:\u001b[0m\u001b[0;34m\u001b[0m\u001b[0;34m\u001b[0m\u001b[0m\n",
      "\u001b[0;32m~/.local/share/virtualenvs/Uni_homework-47B8zL1T/lib/python3.6/site-packages/pandas/io/parsers.py\u001b[0m in \u001b[0;36m_make_engine\u001b[0;34m(self, engine)\u001b[0m\n\u001b[1;32m   1112\u001b[0m     \u001b[0;32mdef\u001b[0m \u001b[0m_make_engine\u001b[0m\u001b[0;34m(\u001b[0m\u001b[0mself\u001b[0m\u001b[0;34m,\u001b[0m \u001b[0mengine\u001b[0m\u001b[0;34m=\u001b[0m\u001b[0;34m\"c\"\u001b[0m\u001b[0;34m)\u001b[0m\u001b[0;34m:\u001b[0m\u001b[0;34m\u001b[0m\u001b[0;34m\u001b[0m\u001b[0m\n\u001b[1;32m   1113\u001b[0m         \u001b[0;32mif\u001b[0m \u001b[0mengine\u001b[0m \u001b[0;34m==\u001b[0m \u001b[0;34m\"c\"\u001b[0m\u001b[0;34m:\u001b[0m\u001b[0;34m\u001b[0m\u001b[0;34m\u001b[0m\u001b[0m\n\u001b[0;32m-> 1114\u001b[0;31m             \u001b[0mself\u001b[0m\u001b[0;34m.\u001b[0m\u001b[0m_engine\u001b[0m \u001b[0;34m=\u001b[0m \u001b[0mCParserWrapper\u001b[0m\u001b[0;34m(\u001b[0m\u001b[0mself\u001b[0m\u001b[0;34m.\u001b[0m\u001b[0mf\u001b[0m\u001b[0;34m,\u001b[0m \u001b[0;34m**\u001b[0m\u001b[0mself\u001b[0m\u001b[0;34m.\u001b[0m\u001b[0moptions\u001b[0m\u001b[0;34m)\u001b[0m\u001b[0;34m\u001b[0m\u001b[0;34m\u001b[0m\u001b[0m\n\u001b[0m\u001b[1;32m   1115\u001b[0m         \u001b[0;32melse\u001b[0m\u001b[0;34m:\u001b[0m\u001b[0;34m\u001b[0m\u001b[0;34m\u001b[0m\u001b[0m\n\u001b[1;32m   1116\u001b[0m             \u001b[0;32mif\u001b[0m \u001b[0mengine\u001b[0m \u001b[0;34m==\u001b[0m \u001b[0;34m\"python\"\u001b[0m\u001b[0;34m:\u001b[0m\u001b[0;34m\u001b[0m\u001b[0;34m\u001b[0m\u001b[0m\n",
      "\u001b[0;32m~/.local/share/virtualenvs/Uni_homework-47B8zL1T/lib/python3.6/site-packages/pandas/io/parsers.py\u001b[0m in \u001b[0;36m__init__\u001b[0;34m(self, src, **kwds)\u001b[0m\n\u001b[1;32m   1889\u001b[0m         \u001b[0mkwds\u001b[0m\u001b[0;34m[\u001b[0m\u001b[0;34m\"usecols\"\u001b[0m\u001b[0;34m]\u001b[0m \u001b[0;34m=\u001b[0m \u001b[0mself\u001b[0m\u001b[0;34m.\u001b[0m\u001b[0musecols\u001b[0m\u001b[0;34m\u001b[0m\u001b[0;34m\u001b[0m\u001b[0m\n\u001b[1;32m   1890\u001b[0m \u001b[0;34m\u001b[0m\u001b[0m\n\u001b[0;32m-> 1891\u001b[0;31m         \u001b[0mself\u001b[0m\u001b[0;34m.\u001b[0m\u001b[0m_reader\u001b[0m \u001b[0;34m=\u001b[0m \u001b[0mparsers\u001b[0m\u001b[0;34m.\u001b[0m\u001b[0mTextReader\u001b[0m\u001b[0;34m(\u001b[0m\u001b[0msrc\u001b[0m\u001b[0;34m,\u001b[0m \u001b[0;34m**\u001b[0m\u001b[0mkwds\u001b[0m\u001b[0;34m)\u001b[0m\u001b[0;34m\u001b[0m\u001b[0;34m\u001b[0m\u001b[0m\n\u001b[0m\u001b[1;32m   1892\u001b[0m         \u001b[0mself\u001b[0m\u001b[0;34m.\u001b[0m\u001b[0munnamed_cols\u001b[0m \u001b[0;34m=\u001b[0m \u001b[0mself\u001b[0m\u001b[0;34m.\u001b[0m\u001b[0m_reader\u001b[0m\u001b[0;34m.\u001b[0m\u001b[0munnamed_cols\u001b[0m\u001b[0;34m\u001b[0m\u001b[0;34m\u001b[0m\u001b[0m\n\u001b[1;32m   1893\u001b[0m \u001b[0;34m\u001b[0m\u001b[0m\n",
      "\u001b[0;32mpandas/_libs/parsers.pyx\u001b[0m in \u001b[0;36mpandas._libs.parsers.TextReader.__cinit__\u001b[0;34m()\u001b[0m\n",
      "\u001b[0;32mpandas/_libs/parsers.pyx\u001b[0m in \u001b[0;36mpandas._libs.parsers.TextReader._setup_parser_source\u001b[0;34m()\u001b[0m\n",
      "\u001b[0;31mFileNotFoundError\u001b[0m: [Errno 2] File superstore.csv does not exist: 'superstore.csv'"
     ]
    }
   ],
   "source": [
    "df = pd.read_csv(\"superstore.csv\")"
   ]
  },
  {
   "cell_type": "code",
   "execution_count": null,
   "metadata": {},
   "outputs": [],
   "source": [
    "df"
   ]
  },
  {
   "cell_type": "code",
   "execution_count": null,
   "metadata": {},
   "outputs": [],
   "source": [
    "# Get the top N rows (default is 10)\n",
    "df.head(10)"
   ]
  },
  {
   "cell_type": "code",
   "execution_count": null,
   "metadata": {},
   "outputs": [],
   "source": [
    "# RowID is the index. Lets set it to be the index\n",
    "df.set_index(\"Row ID\")"
   ]
  },
  {
   "cell_type": "code",
   "execution_count": null,
   "metadata": {},
   "outputs": [],
   "source": [
    "df"
   ]
  },
  {
   "cell_type": "markdown",
   "metadata": {},
   "source": [
    "## Uh Oh! this created a new dataframe!\n",
    "This is a common issue people face in pandas. By default, most operations create new dataframes, rather than modifying them. As a result, most operations support the `inplace` argument to perform it on the existing dataframe."
   ]
  },
  {
   "cell_type": "code",
   "execution_count": null,
   "metadata": {},
   "outputs": [],
   "source": [
    "df.set_index(\"Row ID\", inplace=True)\n",
    "df"
   ]
  },
  {
   "cell_type": "code",
   "execution_count": null,
   "metadata": {},
   "outputs": [],
   "source": [
    "# Let's look at the values for the \"Category\" column\n",
    "df['Category'].unique()"
   ]
  },
  {
   "cell_type": "code",
   "execution_count": null,
   "metadata": {},
   "outputs": [],
   "source": [
    "df_selection = df[ [\"Ship Date\", \"Ship Mode\", \"Country\"] ]  # we can select columns from our df by indexing with a list\n",
    "df_selection"
   ]
  },
  {
   "cell_type": "code",
   "execution_count": null,
   "metadata": {},
   "outputs": [],
   "source": [
    "# This returns us a new dataframe with those columns. If we want to extract just a single column as a Series, we index with just the column name\n",
    "countries = df['Country']\n",
    "print(type(countries))\n",
    "countries"
   ]
  },
  {
   "cell_type": "code",
   "execution_count": null,
   "metadata": {},
   "outputs": [],
   "source": [
    "df"
   ]
  },
  {
   "cell_type": "code",
   "execution_count": null,
   "metadata": {},
   "outputs": [],
   "source": [
    "# we can select rows out of our dataframe in two ways. either by indexing via the row index (Row ID), or via the numerical row.\n",
    "# In this example, they are equal, so will have the same result.\n",
    "df.loc[0]"
   ]
  },
  {
   "cell_type": "code",
   "execution_count": null,
   "metadata": {},
   "outputs": [],
   "source": [
    "# Indexing by row number works just like for lists, so we can get e.g. the last row\n",
    "df.iloc[-1]"
   ]
  },
  {
   "cell_type": "code",
   "execution_count": null,
   "metadata": {},
   "outputs": [],
   "source": [
    "# When extracted, rows are also represented by Series\n",
    "type(df.iloc[-1])"
   ]
  },
  {
   "cell_type": "code",
   "execution_count": null,
   "metadata": {},
   "outputs": [],
   "source": [
    "# Because we have a table, we can do common tabular operations\n",
    "df.sort_values(by=\"State\")  # sort alphabetically by state"
   ]
  },
  {
   "cell_type": "code",
   "execution_count": null,
   "metadata": {},
   "outputs": [],
   "source": [
    "# Boolean indexing\n",
    "df[df['Sales'] > 9800] # Select only rows where Sales > 9800"
   ]
  },
  {
   "cell_type": "code",
   "execution_count": null,
   "metadata": {},
   "outputs": [],
   "source": [
    "df[(df['State'] == 'New York') & (df['Segment'] == 'C')]  # select only sales in New York where Segment == C"
   ]
  },
  {
   "cell_type": "code",
   "execution_count": null,
   "metadata": {},
   "outputs": [],
   "source": [
    "# Setting data\n",
    "# Let's modify a record's Customer ID\n",
    "\n",
    "# First lets copy the data in to a new dataframe df2\n",
    "df2 = df[(df['State'] == 'New York') & (df['Segment'] == 'C')]  # select only sales in New York where Segment == C\n",
    "\n",
    "df2[['Segment', 'State', 'Customer ID']]  # notice that i can reorder columns this way!"
   ]
  },
  {
   "cell_type": "code",
   "execution_count": null,
   "metadata": {},
   "outputs": [],
   "source": [
    "# Now lets set the value\n",
    "df2.at[264, 'Customer ID'] = 'AAAAAAA'\n",
    "\n",
    "df2[['State', 'Segment', 'Customer ID']]  # notice that i can reorder columns this way!"
   ]
  },
  {
   "cell_type": "code",
   "execution_count": null,
   "metadata": {},
   "outputs": [],
   "source": [
    "df2"
   ]
  },
  {
   "cell_type": "code",
   "execution_count": null,
   "metadata": {},
   "outputs": [],
   "source": [
    "# Similarly, we can utilize df.iat[row_number, column_number] to set values"
   ]
  },
  {
   "cell_type": "code",
   "execution_count": null,
   "metadata": {},
   "outputs": [],
   "source": [
    "# Lets do some plotting\n",
    "\n",
    "# Let's plot a scatter plot of profit versus sales, colored by Segment, for all New York sales\n",
    "df[df['State'] == 'New York'].plot(\n",
    "    kind='scatter',\n",
    "    x='Profit',\n",
    "    y='Sales',\n",
    "    c=df[df['State'] == 'New York']['Segment'].map({'A': 'red', 'B': 'green', 'C': 'blue', 'D': 'orange'}))"
   ]
  },
  {
   "cell_type": "code",
   "execution_count": null,
   "metadata": {},
   "outputs": [],
   "source": [
    "import seaborn as sns\n",
    "sns.pairplot(df[['Sales', 'Profit', 'Quantity', 'Segment']], hue='Segment')"
   ]
  },
  {
   "cell_type": "code",
   "execution_count": null,
   "metadata": {},
   "outputs": [],
   "source": [
    "df2 = df[['Sales', 'Profit', 'Quantity']]\n",
    "sns.heatmap(df2.corr())"
   ]
  },
  {
   "cell_type": "code",
   "execution_count": null,
   "metadata": {},
   "outputs": [],
   "source": [
    "df.plot?"
   ]
  },
  {
   "cell_type": "code",
   "execution_count": null,
   "metadata": {},
   "outputs": [],
   "source": [
    "# What if we want to do some aggregation?\n",
    "\n",
    "# Let's say we want to answer a question like \"What is the average profit and sales by state\""
   ]
  },
  {
   "cell_type": "code",
   "execution_count": null,
   "metadata": {},
   "outputs": [],
   "source": [
    "df.groupby?"
   ]
  },
  {
   "cell_type": "code",
   "execution_count": null,
   "metadata": {},
   "outputs": [],
   "source": [
    "df.groupby(\"Category\")[[\"Sales\", \"Profit\"]].mean()"
   ]
  },
  {
   "cell_type": "code",
   "execution_count": null,
   "metadata": {},
   "outputs": [],
   "source": [
    "# What about a full blown excel-style pivot table?\n",
    "df.pivot_table?"
   ]
  },
  {
   "cell_type": "code",
   "execution_count": null,
   "metadata": {},
   "outputs": [],
   "source": [
    "df.pivot_table(values=[\"Sales\", \"Profit\"], index=[\"State\", \"Segment\"], columns=[\"Category\"]).head(50)"
   ]
  },
  {
   "cell_type": "code",
   "execution_count": null,
   "metadata": {},
   "outputs": [],
   "source": [
    "# We can then select into this table\n",
    "df.pivot_table(values=[\"Sales\", \"Profit\"], index=[\"State\", \"Category\"], columns=[\"Segment\"]).loc['New York']"
   ]
  },
  {
   "cell_type": "code",
   "execution_count": null,
   "metadata": {},
   "outputs": [],
   "source": [
    "df.pivot_table(values=[\"Sales\", \"Profit\"], index=[\"State\", \"Category\"], columns=[\"Segment\"]).loc['New York'].style.background_gradient('Blues')"
   ]
  },
  {
   "cell_type": "code",
   "execution_count": null,
   "metadata": {},
   "outputs": [],
   "source": [
    "# And of course, we can output to another format\n",
    "\n",
    "# you might need to run the following line first\n",
    "# !pip install openpyxl\n",
    "\n",
    "df.to_excel(\"superstore.xlsx\")"
   ]
  }
 ],
 "metadata": {
  "anaconda-cloud": {},
  "kernelspec": {
   "display_name": "Python 3",
   "language": "python",
   "name": "python3"
  },
  "language_info": {
   "codemirror_mode": {
    "name": "ipython",
    "version": 3
   },
   "file_extension": ".py",
   "mimetype": "text/x-python",
   "name": "python",
   "nbconvert_exporter": "python",
   "pygments_lexer": "ipython3",
   "version": "3.6.9"
  }
 },
 "nbformat": 4,
 "nbformat_minor": 4
}
